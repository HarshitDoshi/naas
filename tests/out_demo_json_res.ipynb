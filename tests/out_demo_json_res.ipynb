{
 "cells": [
  {
   "cell_type": "code",
   "execution_count": 1,
   "metadata": {
    "execution": {
     "iopub.execute_input": "2020-09-20T15:00:12.694892Z",
     "iopub.status.busy": "2020-09-20T15:00:12.691886Z",
     "iopub.status.idle": "2020-09-20T15:00:12.697815Z",
     "shell.execute_reply": "2020-09-20T15:00:12.699545Z"
    },
    "papermill": {
     "duration": 0.017601,
     "end_time": "2020-09-20T15:00:12.700468",
     "exception": false,
     "start_time": "2020-09-20T15:00:12.682867",
     "status": "completed"
    },
    "tags": [
     "injected-parameters"
    ]
   },
   "outputs": [],
   "source": [
    "# Parameters\n",
    "run_uid = \"0670c313-9fec-4020-b2c8-14b50cc9c3e9\"\n"
   ]
  },
  {
   "cell_type": "code",
   "execution_count": 2,
   "metadata": {
    "execution": {
     "iopub.execute_input": "2020-09-20T15:00:12.722560Z",
     "iopub.status.busy": "2020-09-20T15:00:12.718904Z",
     "iopub.status.idle": "2020-09-20T15:00:12.729749Z",
     "shell.execute_reply": "2020-09-20T15:00:12.731764Z"
    },
    "papermill": {
     "duration": 0.029349,
     "end_time": "2020-09-20T15:00:12.732572",
     "exception": false,
     "start_time": "2020-09-20T15:00:12.703223",
     "status": "completed"
    },
    "tags": []
   },
   "outputs": [
    {
     "data": {
      "application/json": {
       "foo": "bar"
      },
      "text/plain": [
       "<IPython.core.display.JSON object>"
      ]
     },
     "metadata": {
      "application/json": {
       "expanded": false,
       "naas_api": true,
       "root": "root"
      }
     },
     "output_type": "display_data"
    }
   ],
   "source": [
    "from IPython.core.display import display, HTML, JSON, Image, SVG, Markdown\n",
    "display(JSON({'foo': 'bar'}, metadata={'naas_api': True}))"
   ]
  }
 ],
 "metadata": {
  "kernelspec": {
   "display_name": "Python 3",
   "language": "python",
   "name": "python3"
  },
  "language_info": {
   "codemirror_mode": {
    "name": "ipython",
    "version": 3
   },
   "file_extension": ".py",
   "mimetype": "text/x-python",
   "name": "python",
   "nbconvert_exporter": "python",
   "pygments_lexer": "ipython3",
   "version": "3.8.5"
  },
  "papermill": {
   "duration": 1.147046,
   "end_time": "2020-09-20T15:00:12.948760",
   "environment_variables": {},
   "exception": null,
   "input_path": "/Users/martindonadieu/Documents/Projects.nosync/Cashstory/naas/tests/demo_json_res.ipynb",
   "output_path": "/Users/martindonadieu/Documents/Projects.nosync/Cashstory/naas/tests/out_demo_json_res.ipynb",
   "parameters": {
    "run_uid": "0670c313-9fec-4020-b2c8-14b50cc9c3e9"
   },
   "start_time": "2020-09-20T15:00:11.801714",
   "version": "2.1.3"
  }
 },
 "nbformat": 4,
 "nbformat_minor": 4
}