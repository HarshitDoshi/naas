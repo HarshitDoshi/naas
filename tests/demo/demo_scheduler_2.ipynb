{
 "cells": [
  {
   "cell_type": "code",
   "execution_count": null,
   "metadata": {},
   "outputs": [],
   "source": [
    "import datetime\n",
    "print('Start', datetime.datetime.now())"
   ]
  },
  {
   "cell_type": "code",
   "execution_count": null,
   "metadata": {},
   "outputs": [],
   "source": [
    "import asyncio\n",
    "\n",
    "await asyncio.sleep(3)\n",
    "print(\"toto\")"
   ]
  },
  {
   "cell_type": "code",
   "execution_count": null,
   "metadata": {},
   "outputs": [],
   "source": [
    "print('Done', datetime.datetime.now())\n"
   ]
  },
  {
   "cell_type": "code",
   "execution_count": 1,
   "metadata": {
    "execution": {
     "iopub.execute_input": "2021-02-12T12:05:45.091630Z",
     "iopub.status.busy": "2021-02-12T12:05:45.091160Z",
     "iopub.status.idle": "2021-02-12T12:05:46.234517Z",
     "shell.execute_reply": "2021-02-12T12:05:46.233793Z",
     "shell.execute_reply.started": "2021-02-12T12:05:45.091554Z"
    }
   },
   "outputs": [
    {
     "name": "stdout",
     "output_type": "stream",
     "text": [
      "{}\n"
     ]
    }
   ],
   "source": [
    "import naas\n",
    "print(naas.n_env.current)"
   ]
  },
  {
   "cell_type": "code",
   "execution_count": 6,
   "metadata": {
    "execution": {
     "iopub.execute_input": "2021-02-15T13:38:16.709865Z",
     "iopub.status.busy": "2021-02-15T13:38:16.709482Z",
     "iopub.status.idle": "2021-02-15T13:38:16.750277Z",
     "shell.execute_reply": "2021-02-15T13:38:16.748101Z",
     "shell.execute_reply.started": "2021-02-15T13:38:16.709820Z"
    }
   },
   "outputs": [
    {
     "name": "stdout",
     "output_type": "stream",
     "text": [
      "👌 Well done! Your Notebook has been sent to production. \n",
      "\n",
      "⏰ It will be scheduled \"Every minute of every day\" (more on the syntax on https://crontab.guru/).\n",
      "\n",
      "Ps: to remove the \"Scheduler\", just replace .add by .delete\n"
     ]
    }
   ],
   "source": [
    "naas.scheduler.add('./demo_scheduler_2.ipynb', recurrence=\"* * * * *\")"
   ]
  },
  {
   "cell_type": "code",
   "execution_count": 4,
   "metadata": {
    "execution": {
     "iopub.execute_input": "2021-02-15T13:37:58.119009Z",
     "iopub.status.busy": "2021-02-15T13:37:58.118721Z",
     "iopub.status.idle": "2021-02-15T13:37:58.126146Z",
     "shell.execute_reply": "2021-02-15T13:37:58.124324Z",
     "shell.execute_reply.started": "2021-02-15T13:37:58.118974Z"
    }
   },
   "outputs": [
    {
     "name": "stdout",
     "output_type": "stream",
     "text": [
      "No recurrence provided\n",
      "\n"
     ]
    }
   ],
   "source": [
    "# naas.scheduler.delete('./demo_scheduler_2.ipynb')"
   ]
  },
  {
   "cell_type": "code",
   "execution_count": null,
   "metadata": {},
   "outputs": [],
   "source": [
    "# naas.scheduler.delete('./demo_scheduler_2.ipynb')"
   ]
  },
  {
   "cell_type": "code",
   "execution_count": 7,
   "metadata": {
    "execution": {
     "iopub.execute_input": "2021-02-11T12:55:46.585035Z",
     "iopub.status.busy": "2021-02-11T12:55:46.584781Z",
     "iopub.status.idle": "2021-02-11T12:55:46.616124Z",
     "shell.execute_reply": "2021-02-11T12:55:46.614316Z",
     "shell.execute_reply.started": "2021-02-11T12:55:46.585009Z"
    }
   },
   "outputs": [
    {
     "name": "stdout",
     "output_type": "stream",
     "text": [
      "🕣 Your Notebook output demo_scheduler_2.ipynb, has been copied into your local folder.\n",
      "\n"
     ]
    }
   ],
   "source": [
    "# naas.scheduler.get_output('./demo_scheduler_2.ipynb')"
   ]
  },
  {
   "cell_type": "code",
   "execution_count": 5,
   "metadata": {
    "execution": {
     "iopub.execute_input": "2021-02-11T10:19:06.765804Z",
     "iopub.status.busy": "2021-02-11T10:19:06.765487Z",
     "iopub.status.idle": "2021-02-11T10:19:06.793646Z",
     "shell.execute_reply": "2021-02-11T10:19:06.790089Z",
     "shell.execute_reply.started": "2021-02-11T10:19:06.765769Z"
    }
   },
   "outputs": [
    {
     "data": {
      "text/plain": [
       "environ{'SHELL': '/bin/bash',\n",
       "        'MINIFORGE_VERSION': '4.9.2-5',\n",
       "        'HOSTNAME': 'd8cd1f552cd4',\n",
       "        'LANGUAGE': 'en_US.UTF-8',\n",
       "        'NB_UID': '21',\n",
       "        'KERNEL_JUPYTER_SERVER_ROOT': '',\n",
       "        'NB_UMASK': '022',\n",
       "        'PWD': '/home/ftp',\n",
       "        'TZ': 'Europe/Paris',\n",
       "        'KERNEL_JUPYTERHUB_USER': '',\n",
       "        'HOME': '/home/ftp',\n",
       "        'LANG': 'en_US.UTF-8',\n",
       "        'JUPYTERNBDIME_VERSION': '2.1.0',\n",
       "        'NB_GID': '21',\n",
       "        'NB_GROUP': '21',\n",
       "        'KERNEL_JUPYTERHUB_API_TOKEN': '',\n",
       "        'JUPYTERHUB_URL': '127.0.0.1:8888',\n",
       "        'SHLVL': '0',\n",
       "        'CONDA_DIR': '/opt/conda',\n",
       "        'ALLOWED_IFRAME': '',\n",
       "        'JUPYTERLAB_VERSION': '2.2.9',\n",
       "        'JUPYTERGIT_VERSION': '0.23.3',\n",
       "        'CONDA_VERSION': '4.9.2',\n",
       "        'NB_USER': 'ftp',\n",
       "        'LC_ALL': 'en_US.UTF-8',\n",
       "        'JUPYTERCLIENT_VERSION': '6.1.7',\n",
       "        'PATH': '/opt/conda/bin:/usr/local/sbin:/usr/local/bin:/usr/sbin:/usr/bin:/sbin:/bin',\n",
       "        'VERSION': '2.0.1',\n",
       "        'JUPYTERHUB_VERSION': '1.3.0',\n",
       "        'DEBIAN_FRONTEND': 'noninteractive',\n",
       "        'OLDPWD': '/home/jovyan',\n",
       "        'LOGNAME': 'ftp',\n",
       "        'USER': 'ftp',\n",
       "        'TERM': 'xterm-color',\n",
       "        'SUDO_COMMAND': '/opt/conda/bin/jupyter notebook',\n",
       "        'SUDO_USER': 'root',\n",
       "        'SUDO_UID': '0',\n",
       "        'SUDO_GID': '0',\n",
       "        'XDG_CACHE_HOME': '/home/ftp/.cache',\n",
       "        'PYTHONPATH': '/home/pylib',\n",
       "        'GIT_PYTHON_REFRESH': 'quiet',\n",
       "        'JPY_PARENT_PID': '42',\n",
       "        'CLICOLOR': '1',\n",
       "        'PAGER': 'cat',\n",
       "        'GIT_PAGER': 'cat',\n",
       "        'MPLBACKEND': 'module://ipykernel.pylab.backend_inline',\n",
       "        'NAAS_ENV': 'RUNNER'}"
      ]
     },
     "execution_count": 5,
     "metadata": {},
     "output_type": "execute_result"
    }
   ],
   "source": [
    "import os\n",
    "os.environ\n"
   ]
  },
  {
   "cell_type": "code",
   "execution_count": null,
   "metadata": {},
   "outputs": [],
   "source": []
  }
 ],
 "metadata": {
  "kernelspec": {
   "display_name": "Python 3",
   "language": "python",
   "name": "python3"
  },
  "language_info": {
   "codemirror_mode": {
    "name": "ipython",
    "version": 3
   },
   "file_extension": ".py",
   "mimetype": "text/x-python",
   "name": "python",
   "nbconvert_exporter": "python",
   "pygments_lexer": "ipython3",
   "version": "3.8.6"
  }
 },
 "nbformat": 4,
 "nbformat_minor": 4
}
