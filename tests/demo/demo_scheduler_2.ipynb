{
 "cells": [
  {
   "cell_type": "code",
   "execution_count": null,
   "metadata": {},
   "outputs": [],
   "source": [
    "import datetime\n",
    "print('Start', datetime.datetime.now())"
   ]
  },
  {
   "cell_type": "code",
   "execution_count": null,
   "metadata": {},
   "outputs": [],
   "source": [
    "import asyncio\n",
    "\n",
    "await asyncio.sleep(3)\n",
    "print("
   ]
  },
  {
   "cell_type": "code",
   "execution_count": null,
   "metadata": {},
   "outputs": [],
   "source": [
    "print('Done', datetime.datetime.now())"
   ]
  },
  {
   "cell_type": "code",
   "execution_count": 1,
   "metadata": {
    "execution": {
     "iopub.execute_input": "2021-02-10T11:22:55.036056Z",
     "iopub.status.busy": "2021-02-10T11:22:55.035505Z",
     "iopub.status.idle": "2021-02-10T11:22:56.332257Z",
     "shell.execute_reply": "2021-02-10T11:22:56.330081Z",
     "shell.execute_reply.started": "2021-02-10T11:22:55.035945Z"
    }
   },
   "outputs": [],
   "source": [
    "import naas"
   ]
  },
  {
   "cell_type": "code",
   "execution_count": null,
   "metadata": {},
   "outputs": [],
   "source": [
    "naas.scheduler.add('./demo_scheduler_2.ipynb', recurrence=\"* * * * *\")"
   ]
  },
  {
   "cell_type": "code",
   "execution_count": null,
   "metadata": {},
   "outputs": [],
   "source": [
    "# naas.scheduler.delete('./demo_scheduler_2.ipynb')"
   ]
  },
  {
   "cell_type": "code",
   "execution_count": 2,
   "metadata": {
    "execution": {
     "iopub.execute_input": "2021-02-10T11:22:58.195704Z",
     "iopub.status.busy": "2021-02-10T11:22:58.195437Z",
     "iopub.status.idle": "2021-02-10T11:22:58.222602Z",
     "shell.execute_reply": "2021-02-10T11:22:58.220426Z",
     "shell.execute_reply.started": "2021-02-10T11:22:58.195680Z"
    }
   },
   "outputs": [
    {
     "name": "stdout",
     "output_type": "stream",
     "text": [
      "🕣 Your Notebook output demo_scheduler_2.ipynb, has been copied into your local folder.\n",
      "\n"
     ]
    }
   ],
   "source": [
    "naas.scheduler.get_output('./demo_scheduler_2.ipynb')"
   ]
  },
  {
   "cell_type": "code",
   "execution_count": null,
   "metadata": {},
   "outputs": [],
   "source": []
  }
 ],
 "metadata": {
  "kernelspec": {
   "display_name": "Python 3",
   "language": "python",
   "name": "python3"
  },
  "language_info": {
   "codemirror_mode": {
    "name": "ipython",
    "version": 3
   },
   "file_extension": ".py",
   "mimetype": "text/x-python",
   "name": "python",
   "nbconvert_exporter": "python",
   "pygments_lexer": "ipython3",
   "version": "3.8.6"
  }
 },
 "nbformat": 4,
 "nbformat_minor": 4
}
