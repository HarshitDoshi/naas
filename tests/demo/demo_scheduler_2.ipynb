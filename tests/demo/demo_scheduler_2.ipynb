{
 "cells": [
  {
   "cell_type": "code",
   "execution_count": 1,
   "metadata": {
    "execution": {
     "iopub.execute_input": "2021-02-05T00:58:22.494279Z",
     "iopub.status.busy": "2021-02-05T00:58:22.493973Z",
     "iopub.status.idle": "2021-02-05T00:58:22.505837Z",
     "shell.execute_reply": "2021-02-05T00:58:22.505078Z",
     "shell.execute_reply.started": "2021-02-05T00:58:22.494200Z"
    }
   },
   "outputs": [
    {
     "name": "stdout",
     "output_type": "stream",
     "text": [
      "Start 2021-02-05 01:58:22.500582\n"
     ]
    }
   ],
   "source": [
    "import datetime\n",
    "print('Start', datetime.datetime.now())"
   ]
  },
  {
   "cell_type": "code",
   "execution_count": 2,
   "metadata": {
    "execution": {
     "iopub.execute_input": "2021-02-05T00:58:22.935888Z",
     "iopub.status.busy": "2021-02-05T00:58:22.935378Z",
     "iopub.status.idle": "2021-02-05T00:58:25.943627Z",
     "shell.execute_reply": "2021-02-05T00:58:25.942368Z",
     "shell.execute_reply.started": "2021-02-05T00:58:22.935849Z"
    }
   },
   "outputs": [],
   "source": [
    "import asyncio\n",
    "\n",
    "await asyncio.sleep(3)"
   ]
  },
  {
   "cell_type": "code",
   "execution_count": 3,
   "metadata": {
    "execution": {
     "iopub.execute_input": "2021-02-05T00:58:25.945769Z",
     "iopub.status.busy": "2021-02-05T00:58:25.944739Z",
     "iopub.status.idle": "2021-02-05T00:58:25.958243Z",
     "shell.execute_reply": "2021-02-05T00:58:25.954287Z",
     "shell.execute_reply.started": "2021-02-05T00:58:25.945607Z"
    }
   },
   "outputs": [
    {
     "name": "stdout",
     "output_type": "stream",
     "text": [
      "Done 2021-02-05 01:58:25.948853\n"
     ]
    }
   ],
   "source": [
    "print('Done', datetime.datetime.now())"
   ]
  },
  {
   "cell_type": "code",
   "execution_count": 4,
   "metadata": {
    "execution": {
     "iopub.execute_input": "2021-02-05T00:58:25.960066Z",
     "iopub.status.busy": "2021-02-05T00:58:25.959526Z",
     "iopub.status.idle": "2021-02-05T00:58:27.779935Z",
     "shell.execute_reply": "2021-02-05T00:58:27.778930Z",
     "shell.execute_reply.started": "2021-02-05T00:58:25.960030Z"
    }
   },
   "outputs": [
    {
     "name": "stdout",
     "output_type": "stream",
     "text": [
      "👌 Well done! Your Notebook has been sent to production. \n",
      "\n",
      "⏰ It will be scheduled \"Every minute of every day\" (more on the syntax on https://crontab.guru/).\n",
      "\n",
      "Ps: to remove the \"Scheduler\", just replace .add by .delete\n"
     ]
    }
   ],
   "source": [
    "import naas\n",
    "naas.scheduler.add('./demo_scheduler_2.ipynb', recurrence=\"* * * * *\")"
   ]
  },
  {
   "cell_type": "code",
   "execution_count": null,
   "metadata": {},
   "outputs": [],
   "source": []
  },
  {
   "cell_type": "code",
   "execution_count": null,
   "metadata": {},
   "outputs": [],
   "source": []
  }
 ],
 "metadata": {
  "kernelspec": {
   "display_name": "Python 3",
   "language": "python",
   "name": "python3"
  },
  "language_info": {
   "codemirror_mode": {
    "name": "ipython",
    "version": 3
   },
   "file_extension": ".py",
   "mimetype": "text/x-python",
   "name": "python",
   "nbconvert_exporter": "python",
   "pygments_lexer": "ipython3",
   "version": "3.8.6"
  }
 },
 "nbformat": 4,
 "nbformat_minor": 4
}
