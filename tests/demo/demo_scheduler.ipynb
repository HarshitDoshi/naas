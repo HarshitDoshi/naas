{
 "cells": [
  {
   "cell_type": "code",
   "execution_count": 1,
   "metadata": {
    "execution": {
     "iopub.execute_input": "2021-02-05T00:58:20.827925Z",
     "iopub.status.busy": "2021-02-05T00:58:20.827310Z",
     "iopub.status.idle": "2021-02-05T00:58:20.842835Z",
     "shell.execute_reply": "2021-02-05T00:58:20.841199Z",
     "shell.execute_reply.started": "2021-02-05T00:58:20.827738Z"
    }
   },
   "outputs": [
    {
     "name": "stdout",
     "output_type": "stream",
     "text": [
      "Start 2021-02-05 01:58:20.837591\n"
     ]
    }
   ],
   "source": [
    "import datetime\n",
    "print('Start', datetime.datetime.now())"
   ]
  },
  {
   "cell_type": "code",
   "execution_count": 2,
   "metadata": {
    "execution": {
     "iopub.execute_input": "2021-02-05T00:58:20.846971Z",
     "iopub.status.busy": "2021-02-05T00:58:20.845704Z",
     "iopub.status.idle": "2021-02-05T00:58:23.860443Z",
     "shell.execute_reply": "2021-02-05T00:58:23.859832Z",
     "shell.execute_reply.started": "2021-02-05T00:58:20.846856Z"
    }
   },
   "outputs": [],
   "source": [
    "import asyncio\n",
    "\n",
    "await asyncio.sleep(3)"
   ]
  },
  {
   "cell_type": "code",
   "execution_count": 3,
   "metadata": {
    "execution": {
     "iopub.execute_input": "2021-02-05T00:58:23.861881Z",
     "iopub.status.busy": "2021-02-05T00:58:23.861461Z",
     "iopub.status.idle": "2021-02-05T00:58:23.868827Z",
     "shell.execute_reply": "2021-02-05T00:58:23.867592Z",
     "shell.execute_reply.started": "2021-02-05T00:58:23.861856Z"
    }
   },
   "outputs": [
    {
     "name": "stdout",
     "output_type": "stream",
     "text": [
      "Done 2021-02-05 01:58:23.863978\n"
     ]
    }
   ],
   "source": [
    "print('Done', datetime.datetime.now())"
   ]
  },
  {
   "cell_type": "code",
   "execution_count": 7,
   "metadata": {
    "execution": {
     "iopub.execute_input": "2021-02-05T01:01:15.920612Z",
     "iopub.status.busy": "2021-02-05T01:01:15.920361Z",
     "iopub.status.idle": "2021-02-05T01:01:15.947834Z",
     "shell.execute_reply": "2021-02-05T01:01:15.946100Z",
     "shell.execute_reply.started": "2021-02-05T01:01:15.920589Z"
    }
   },
   "outputs": [
    {
     "name": "stdout",
     "output_type": "stream",
     "text": [
      "👌 Well done! Your Notebook has been sent to production. \n",
      "\n",
      "⏰ It will be scheduled \"Every minute of every day\" (more on the syntax on https://crontab.guru/).\n",
      "\n",
      "Ps: to remove the \"Scheduler\", just replace .add by .delete\n"
     ]
    }
   ],
   "source": [
    "import naas\n",
    "naas.scheduler.add('./demo_scheduler.ipynb', recurrence=\"* * * * *\")"
   ]
  },
  {
   "cell_type": "code",
   "execution_count": 5,
   "metadata": {
    "execution": {
     "iopub.execute_input": "2021-02-05T00:58:25.933571Z",
     "iopub.status.busy": "2021-02-05T00:58:25.932622Z",
     "iopub.status.idle": "2021-02-05T00:58:25.973652Z",
     "shell.execute_reply": "2021-02-05T00:58:25.970515Z",
     "shell.execute_reply.started": "2021-02-05T00:58:25.933530Z"
    }
   },
   "outputs": [
    {
     "name": "stdout",
     "output_type": "stream",
     "text": [
      "🕣 Your Notebook output demo_scheduler.ipynb, has been copied into your local folder.\n",
      "\n"
     ]
    }
   ],
   "source": [
    "# naas.scheduler.get_output('./demo_scheduler.ipynb')"
   ]
  },
  {
   "cell_type": "code",
   "execution_count": null,
   "metadata": {},
   "outputs": [],
   "source": []
  }
 ],
 "metadata": {
  "kernelspec": {
   "display_name": "Python 3",
   "language": "python",
   "name": "python3"
  },
  "language_info": {
   "codemirror_mode": {
    "name": "ipython",
    "version": 3
   },
   "file_extension": ".py",
   "mimetype": "text/x-python",
   "name": "python",
   "nbconvert_exporter": "python",
   "pygments_lexer": "ipython3",
   "version": "3.8.6"
  }
 },
 "nbformat": 4,
 "nbformat_minor": 4
}
