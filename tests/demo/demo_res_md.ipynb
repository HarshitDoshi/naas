{
 "cells": [
  {
   "cell_type": "code",
   "execution_count": 1,
   "metadata": {},
   "outputs": [
    {
     "output_type": "display_data",
     "data": {
      "text/plain": "<IPython.core.display.Markdown object>",
      "text/markdown": "Response Set as Markdown, preview below: "
     },
     "metadata": {}
    },
    {
     "output_type": "display_data",
     "data": {
      "text/plain": "<IPython.core.display.HTML object>",
      "text/html": "<h1>HELLO world</h1>\n\n<p>this is a markdown test</p>\n"
     },
     "metadata": {
      "text/html": {
       "naas_api": true,
       "naas_type": "markdown"
      }
     }
    }
   ],
   "source": [
    "import markdown2\n",
    "from IPython.core.display import display, HTML, Markdown\n",
    "md_text = \"\"\"# HELLO world\n",
    "\n",
    "this is a markdown test\n",
    "\"\"\"\n",
    "display(Markdown(\"Response Set as Markdown, preview below: \"))\n",
    "html = markdown2.markdown(md_text)\n",
    "display(HTML(html, metadata={\"naas_api\": True, \"naas_type\": \"markdown\"}))"
   ]
  }
 ],
 "metadata": {
  "kernelspec": {
   "display_name": "Python 3",
   "language": "python",
   "name": "python3"
  },
  "language_info": {
   "codemirror_mode": {
    "name": "ipython",
    "version": 3
   },
   "file_extension": ".py",
   "mimetype": "text/x-python",
   "name": "python",
   "nbconvert_exporter": "python",
   "pygments_lexer": "ipython3",
   "version": "3.9.1-final"
  }
 },
 "nbformat": 4,
 "nbformat_minor": 4
}