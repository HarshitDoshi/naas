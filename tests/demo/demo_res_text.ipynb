{
 "cells": [
  {
   "cell_type": "code",
   "execution_count": 2,
   "metadata": {},
   "outputs": [
    {
     "output_type": "display_data",
     "data": {
      "text/plain": "<IPython.core.display.Markdown object>",
      "text/markdown": "Response Set as Text, preview below: "
     },
     "metadata": {}
    },
    {
     "output_type": "display_data",
     "data": {
      "text/plain": "<IPython.core.display.HTML object>",
      "text/html": "# HELLO world\n\nthis is a markdown test\n"
     },
     "metadata": {
      "text/html": {
       "naas_api": true,
       "naas_type": "markdown"
      }
     }
    }
   ],
   "source": [
    "import os\n",
    "from IPython.core.display import display, HTML, Markdown\n",
    "md_text = \"\"\"# HELLO world\n",
    "\n",
    "this is a markdown test\n",
    "\"\"\"\n",
    "display(Markdown(\"Response Set as Text, preview below: \"))\n",
    "display(HTML(md_text, metadata={\"naas_api\": True, \"naas_type\": \"markdown\"}))"
   ]
  },
  {
   "cell_type": "code",
   "execution_count": null,
   "metadata": {},
   "outputs": [],
   "source": []
  }
 ],
 "metadata": {
  "kernelspec": {
   "display_name": "Python 3",
   "language": "python",
   "name": "python3"
  },
  "language_info": {
   "codemirror_mode": {
    "name": "ipython",
    "version": 3
   },
   "file_extension": ".py",
   "mimetype": "text/x-python",
   "name": "python",
   "nbconvert_exporter": "python",
   "pygments_lexer": "ipython3",
   "version": "3.9.1-final"
  }
 },
 "nbformat": 4,
 "nbformat_minor": 4
}