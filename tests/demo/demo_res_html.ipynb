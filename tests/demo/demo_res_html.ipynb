{
 "cells": [
  {
   "cell_type": "code",
   "execution_count": 3,
   "metadata": {},
   "outputs": [
    {
     "output_type": "display_data",
     "data": {
      "text/plain": "<IPython.core.display.Markdown object>",
      "text/markdown": "Response Set as HTML, preview below: "
     },
     "metadata": {}
    },
    {
     "output_type": "display_data",
     "data": {
      "text/plain": "<IPython.core.display.HTML object>",
      "text/html": "<h1>Hello world</h1>"
     },
     "metadata": {
      "text/html": {
       "naas_api": true
      }
     }
    }
   ],
   "source": [
    "from IPython.core.display import display, HTML, Markdown\n",
    "html_text = \"<h1>Hello world</h1>\"\n",
    "display(Markdown(\"Response Set as HTML, preview below: \"))\n",
    "display(HTML(html_text, metadata={\"naas_api\": True}))"
   ]
  }
 ],
 "metadata": {
  "kernelspec": {
   "display_name": "Python 3",
   "language": "python",
   "name": "python3"
  },
  "language_info": {
   "codemirror_mode": {
    "name": "ipython",
    "version": 3
   },
   "file_extension": ".py",
   "mimetype": "text/x-python",
   "name": "python",
   "nbconvert_exporter": "python",
   "pygments_lexer": "ipython3",
   "version": "3.9.1-final"
  }
 },
 "nbformat": 4,
 "nbformat_minor": 4
}