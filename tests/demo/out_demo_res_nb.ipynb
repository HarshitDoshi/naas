{
 "cells": [
  {
   "cell_type": "code",
   "execution_count": 1,
   "metadata": {
    "execution": {
     "iopub.execute_input": "2020-10-01T01:26:54.680297Z",
     "iopub.status.busy": "2020-10-01T01:26:54.677026Z",
     "iopub.status.idle": "2020-10-01T01:26:54.683431Z",
     "shell.execute_reply": "2020-10-01T01:26:54.685383Z"
    },
    "papermill": {
     "duration": 0.022656,
     "end_time": "2020-10-01T01:26:54.686334",
     "exception": false,
     "start_time": "2020-10-01T01:26:54.663678",
     "status": "completed"
    },
    "tags": [
     "injected-parameters"
    ]
   },
   "outputs": [],
   "source": [
    "# Parameters\n",
    "run_uid = \"aaf87f45-2488-43e2-be41-df9ccdc77247\"\n"
   ]
  },
  {
   "cell_type": "code",
   "execution_count": 2,
   "metadata": {
    "execution": {
     "iopub.execute_input": "2020-10-01T01:26:54.706051Z",
     "iopub.status.busy": "2020-10-01T01:26:54.702948Z",
     "iopub.status.idle": "2020-10-01T01:26:54.998578Z",
     "shell.execute_reply": "2020-10-01T01:26:55.000225Z"
    },
    "papermill": {
     "duration": 0.309176,
     "end_time": "2020-10-01T01:26:55.000935",
     "exception": false,
     "start_time": "2020-10-01T01:26:54.691759",
     "status": "completed"
    },
    "tags": []
   },
   "outputs": [],
   "source": [
    "import pandas as pd"
   ]
  },
  {
   "cell_type": "code",
   "execution_count": 3,
   "metadata": {
    "execution": {
     "iopub.execute_input": "2020-10-01T01:26:55.018037Z",
     "iopub.status.busy": "2020-10-01T01:26:55.015562Z",
     "iopub.status.idle": "2020-10-01T01:26:55.162592Z",
     "shell.execute_reply": "2020-10-01T01:26:55.160568Z"
    },
    "papermill": {
     "duration": 0.15785,
     "end_time": "2020-10-01T01:26:55.163209",
     "exception": false,
     "start_time": "2020-10-01T01:26:55.005359",
     "status": "completed"
    },
    "tags": []
   },
   "outputs": [],
   "source": [
    "df = pd.read_csv(\"https://query1.finance.yahoo.com/v7/finance/download/PEIX?period1=1569403689&period2=1601026089&interval=1d&events=history\")\n"
   ]
  },
  {
   "cell_type": "code",
   "execution_count": 4,
   "metadata": {
    "execution": {
     "iopub.execute_input": "2020-10-01T01:26:55.194554Z",
     "iopub.status.busy": "2020-10-01T01:26:55.191549Z",
     "iopub.status.idle": "2020-10-01T01:26:55.203153Z",
     "shell.execute_reply": "2020-10-01T01:26:55.204932Z"
    },
    "papermill": {
     "duration": 0.037532,
     "end_time": "2020-10-01T01:26:55.205951",
     "exception": false,
     "start_time": "2020-10-01T01:26:55.168419",
     "status": "completed"
    },
    "tags": []
   },
   "outputs": [
    {
     "data": {
      "text/html": [
       "<div>\n",
       "<style scoped>\n",
       "    .dataframe tbody tr th:only-of-type {\n",
       "        vertical-align: middle;\n",
       "    }\n",
       "\n",
       "    .dataframe tbody tr th {\n",
       "        vertical-align: top;\n",
       "    }\n",
       "\n",
       "    .dataframe thead th {\n",
       "        text-align: right;\n",
       "    }\n",
       "</style>\n",
       "<table border=\"1\" class=\"dataframe\">\n",
       "  <thead>\n",
       "    <tr style=\"text-align: right;\">\n",
       "      <th></th>\n",
       "      <th>Date</th>\n",
       "      <th>Open</th>\n",
       "      <th>High</th>\n",
       "      <th>Low</th>\n",
       "      <th>Close</th>\n",
       "      <th>Adj Close</th>\n",
       "      <th>Volume</th>\n",
       "    </tr>\n",
       "  </thead>\n",
       "  <tbody>\n",
       "    <tr>\n",
       "      <th>0</th>\n",
       "      <td>2019-09-25</td>\n",
       "      <td>0.61</td>\n",
       "      <td>0.65</td>\n",
       "      <td>0.58</td>\n",
       "      <td>0.59</td>\n",
       "      <td>0.59</td>\n",
       "      <td>322200</td>\n",
       "    </tr>\n",
       "    <tr>\n",
       "      <th>1</th>\n",
       "      <td>2019-09-26</td>\n",
       "      <td>0.59</td>\n",
       "      <td>0.62</td>\n",
       "      <td>0.55</td>\n",
       "      <td>0.56</td>\n",
       "      <td>0.56</td>\n",
       "      <td>353000</td>\n",
       "    </tr>\n",
       "    <tr>\n",
       "      <th>2</th>\n",
       "      <td>2019-09-27</td>\n",
       "      <td>0.56</td>\n",
       "      <td>0.58</td>\n",
       "      <td>0.55</td>\n",
       "      <td>0.55</td>\n",
       "      <td>0.55</td>\n",
       "      <td>259800</td>\n",
       "    </tr>\n",
       "    <tr>\n",
       "      <th>3</th>\n",
       "      <td>2019-09-30</td>\n",
       "      <td>0.56</td>\n",
       "      <td>0.60</td>\n",
       "      <td>0.56</td>\n",
       "      <td>0.56</td>\n",
       "      <td>0.56</td>\n",
       "      <td>174000</td>\n",
       "    </tr>\n",
       "    <tr>\n",
       "      <th>4</th>\n",
       "      <td>2019-10-01</td>\n",
       "      <td>0.58</td>\n",
       "      <td>0.62</td>\n",
       "      <td>0.55</td>\n",
       "      <td>0.59</td>\n",
       "      <td>0.59</td>\n",
       "      <td>784500</td>\n",
       "    </tr>\n",
       "    <tr>\n",
       "      <th>...</th>\n",
       "      <td>...</td>\n",
       "      <td>...</td>\n",
       "      <td>...</td>\n",
       "      <td>...</td>\n",
       "      <td>...</td>\n",
       "      <td>...</td>\n",
       "      <td>...</td>\n",
       "    </tr>\n",
       "    <tr>\n",
       "      <th>248</th>\n",
       "      <td>2020-09-18</td>\n",
       "      <td>6.15</td>\n",
       "      <td>7.24</td>\n",
       "      <td>6.13</td>\n",
       "      <td>7.10</td>\n",
       "      <td>7.10</td>\n",
       "      <td>16285000</td>\n",
       "    </tr>\n",
       "    <tr>\n",
       "      <th>249</th>\n",
       "      <td>2020-09-21</td>\n",
       "      <td>6.98</td>\n",
       "      <td>7.84</td>\n",
       "      <td>6.55</td>\n",
       "      <td>7.71</td>\n",
       "      <td>7.71</td>\n",
       "      <td>10026100</td>\n",
       "    </tr>\n",
       "    <tr>\n",
       "      <th>250</th>\n",
       "      <td>2020-09-22</td>\n",
       "      <td>8.10</td>\n",
       "      <td>8.47</td>\n",
       "      <td>7.59</td>\n",
       "      <td>8.00</td>\n",
       "      <td>8.00</td>\n",
       "      <td>12802900</td>\n",
       "    </tr>\n",
       "    <tr>\n",
       "      <th>251</th>\n",
       "      <td>2020-09-23</td>\n",
       "      <td>7.86</td>\n",
       "      <td>8.14</td>\n",
       "      <td>7.28</td>\n",
       "      <td>7.35</td>\n",
       "      <td>7.35</td>\n",
       "      <td>8571300</td>\n",
       "    </tr>\n",
       "    <tr>\n",
       "      <th>252</th>\n",
       "      <td>2020-09-24</td>\n",
       "      <td>7.21</td>\n",
       "      <td>7.39</td>\n",
       "      <td>6.45</td>\n",
       "      <td>6.63</td>\n",
       "      <td>6.63</td>\n",
       "      <td>8141000</td>\n",
       "    </tr>\n",
       "  </tbody>\n",
       "</table>\n",
       "<p>253 rows × 7 columns</p>\n",
       "</div>"
      ],
      "text/plain": [
       "           Date  Open  High   Low  Close  Adj Close    Volume\n",
       "0    2019-09-25  0.61  0.65  0.58   0.59       0.59    322200\n",
       "1    2019-09-26  0.59  0.62  0.55   0.56       0.56    353000\n",
       "2    2019-09-27  0.56  0.58  0.55   0.55       0.55    259800\n",
       "3    2019-09-30  0.56  0.60  0.56   0.56       0.56    174000\n",
       "4    2019-10-01  0.58  0.62  0.55   0.59       0.59    784500\n",
       "..          ...   ...   ...   ...    ...        ...       ...\n",
       "248  2020-09-18  6.15  7.24  6.13   7.10       7.10  16285000\n",
       "249  2020-09-21  6.98  7.84  6.55   7.71       7.71  10026100\n",
       "250  2020-09-22  8.10  8.47  7.59   8.00       8.00  12802900\n",
       "251  2020-09-23  7.86  8.14  7.28   7.35       7.35   8571300\n",
       "252  2020-09-24  7.21  7.39  6.45   6.63       6.63   8141000\n",
       "\n",
       "[253 rows x 7 columns]"
      ]
     },
     "execution_count": 4,
     "metadata": {},
     "output_type": "execute_result"
    }
   ],
   "source": [
    "df"
   ]
  },
  {
   "cell_type": "code",
   "execution_count": 5,
   "metadata": {
    "execution": {
     "iopub.execute_input": "2020-10-01T01:26:55.225768Z",
     "iopub.status.busy": "2020-10-01T01:26:55.222838Z",
     "iopub.status.idle": "2020-10-01T01:26:55.228506Z",
     "shell.execute_reply": "2020-10-01T01:26:55.230367Z"
    },
    "papermill": {
     "duration": 0.019546,
     "end_time": "2020-10-01T01:26:55.231112",
     "exception": false,
     "start_time": "2020-10-01T01:26:55.211566",
     "status": "completed"
    },
    "tags": []
   },
   "outputs": [],
   "source": [
    "#df.plot(x ='Date', y='Volume', kind = 'scatter')"
   ]
  },
  {
   "cell_type": "code",
   "execution_count": 6,
   "metadata": {
    "execution": {
     "iopub.execute_input": "2020-10-01T01:26:55.250555Z",
     "iopub.status.busy": "2020-10-01T01:26:55.247456Z",
     "iopub.status.idle": "2020-10-01T01:26:55.256312Z",
     "shell.execute_reply": "2020-10-01T01:26:55.258143Z"
    },
    "papermill": {
     "duration": 0.022585,
     "end_time": "2020-10-01T01:26:55.258924",
     "exception": false,
     "start_time": "2020-10-01T01:26:55.236339",
     "status": "completed"
    },
    "tags": []
   },
   "outputs": [
    {
     "data": {
      "text/markdown": [
       "Response Set as File, preview below: "
      ],
      "text/plain": [
       "<IPython.core.display.Markdown object>"
      ]
     },
     "metadata": {
      "text/markdown": {
       "naas_api": true,
       "naas_type": "notebook"
      }
     },
     "output_type": "display_data"
    }
   ],
   "source": [
    "import os\n",
    "from IPython.core.display import display, JSON, Markdown\n",
    "data = {\"path\": \"/Users/martindonadieu/Documents/Projects.nosync/Naas/naas/tests/demo/out_demo_res_nb.ipynb\"}\n",
    "display(Markdown(\"Response Set as File, preview below: \", metadata={\"naas_api\": True, \"naas_type\": \"notebook\"}))\n"
   ]
  },
  {
   "cell_type": "code",
   "execution_count": null,
   "metadata": {
    "papermill": {
     "duration": 0.005946,
     "end_time": "2020-10-01T01:26:55.270743",
     "exception": false,
     "start_time": "2020-10-01T01:26:55.264797",
     "status": "completed"
    },
    "tags": []
   },
   "outputs": [],
   "source": []
  }
 ],
 "metadata": {
  "kernelspec": {
   "display_name": "Python 3",
   "language": "python",
   "name": "python3"
  },
  "language_info": {
   "codemirror_mode": {
    "name": "ipython",
    "version": 3
   },
   "file_extension": ".py",
   "mimetype": "text/x-python",
   "name": "python",
   "nbconvert_exporter": "python",
   "pygments_lexer": "ipython3",
   "version": "3.8.5"
  },
  "papermill": {
   "duration": 1.878179,
   "end_time": "2020-10-01T01:26:55.588912",
   "environment_variables": {},
   "exception": null,
   "input_path": "/Users/martindonadieu/Documents/Projects.nosync/Naas/naas/tests/demo/demo_res_nb.ipynb",
   "output_path": "/Users/martindonadieu/Documents/Projects.nosync/Naas/naas/tests/demo/out_demo_res_nb.ipynb",
   "parameters": {
    "run_uid": "aaf87f45-2488-43e2-be41-df9ccdc77247"
   },
   "start_time": "2020-10-01T01:26:53.710733",
   "version": "2.1.3"
  }
 },
 "nbformat": 4,
 "nbformat_minor": 4
}