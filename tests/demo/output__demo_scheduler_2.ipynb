{
 "cells": [
  {
   "cell_type": "markdown",
   "id": "ongoing-cleaner",
   "metadata": {
    "tags": [
     "papermill-error-cell-tag"
    ]
   },
   "source": [
    "<span style=\"color:red; font-family:Helvetica Neue, Helvetica, Arial, sans-serif; font-size:2em;\">An Exception was encountered at '<a href=\"#papermill-error-cell\">In [6]</a>'.</span>"
   ]
  },
  {
   "cell_type": "code",
   "execution_count": 1,
   "id": "handled-sixth",
   "metadata": {
    "execution": {
     "iopub.execute_input": "2021-02-11T12:55:21.432958Z",
     "iopub.status.busy": "2021-02-11T12:55:21.430341Z",
     "iopub.status.idle": "2021-02-11T12:55:21.435471Z",
     "shell.execute_reply": "2021-02-11T12:55:21.436324Z"
    },
    "papermill": {
     "duration": 0.027429,
     "end_time": "2021-02-11T12:55:21.437160",
     "exception": false,
     "start_time": "2021-02-11T12:55:21.409731",
     "status": "completed"
    },
    "tags": [
     "injected-parameters"
    ]
   },
   "outputs": [],
   "source": [
    "# Parameters\n",
    "NAAS_UID = \"8eaa20ad-638e-44a9-8e4d-9f5480ae5fe6\"\n",
    "NAAS_NOTEBOOK_PATH = \"/home/ftp/.naas/home/ftp/naas/tests/demo\"\n",
    "NAAS_RUNTIME = \"20210211135520825827\"\n"
   ]
  },
  {
   "cell_type": "code",
   "execution_count": 2,
   "id": "australian-parallel",
   "metadata": {
    "execution": {
     "iopub.execute_input": "2021-02-11T12:55:21.462298Z",
     "iopub.status.busy": "2021-02-11T12:55:21.460281Z",
     "iopub.status.idle": "2021-02-11T12:55:21.466387Z",
     "shell.execute_reply": "2021-02-11T12:55:21.467896Z"
    },
    "papermill": {
     "duration": 0.022059,
     "end_time": "2021-02-11T12:55:21.468584",
     "exception": false,
     "start_time": "2021-02-11T12:55:21.446525",
     "status": "completed"
    },
    "tags": []
   },
   "outputs": [
    {
     "name": "stdout",
     "output_type": "stream",
     "text": [
      "Start 2021-02-11 13:55:21.458082\n"
     ]
    }
   ],
   "source": [
    "import datetime\n",
    "print('Start', datetime.datetime.now())"
   ]
  },
  {
   "cell_type": "code",
   "execution_count": 3,
   "id": "hazardous-jamaica",
   "metadata": {
    "execution": {
     "iopub.execute_input": "2021-02-11T12:55:21.494510Z",
     "iopub.status.busy": "2021-02-11T12:55:21.492558Z",
     "iopub.status.idle": "2021-02-11T12:55:24.502584Z",
     "shell.execute_reply": "2021-02-11T12:55:24.500983Z"
    },
    "papermill": {
     "duration": 3.025823,
     "end_time": "2021-02-11T12:55:24.503061",
     "exception": false,
     "start_time": "2021-02-11T12:55:21.477238",
     "status": "completed"
    },
    "tags": []
   },
   "outputs": [
    {
     "name": "stdout",
     "output_type": "stream",
     "text": [
      "toto\n"
     ]
    }
   ],
   "source": [
    "import asyncio\n",
    "\n",
    "await asyncio.sleep(3)\n",
    "print(\"toto\")"
   ]
  },
  {
   "cell_type": "code",
   "execution_count": 4,
   "id": "athletic-sunset",
   "metadata": {
    "execution": {
     "iopub.execute_input": "2021-02-11T12:55:24.529324Z",
     "iopub.status.busy": "2021-02-11T12:55:24.527120Z",
     "iopub.status.idle": "2021-02-11T12:55:24.533241Z",
     "shell.execute_reply": "2021-02-11T12:55:24.534591Z"
    },
    "papermill": {
     "duration": 0.022891,
     "end_time": "2021-02-11T12:55:24.535172",
     "exception": false,
     "start_time": "2021-02-11T12:55:24.512281",
     "status": "completed"
    },
    "tags": []
   },
   "outputs": [
    {
     "name": "stdout",
     "output_type": "stream",
     "text": [
      "Done 2021-02-11 13:55:24.524513\n"
     ]
    }
   ],
   "source": [
    "print('Done', datetime.datetime.now())\n"
   ]
  },
  {
   "cell_type": "code",
   "execution_count": 5,
   "id": "worthy-california",
   "metadata": {
    "execution": {
     "iopub.execute_input": "2021-02-11T12:55:24.560372Z",
     "iopub.status.busy": "2021-02-11T12:55:24.557525Z",
     "iopub.status.idle": "2021-02-11T12:55:25.673675Z",
     "shell.execute_reply": "2021-02-11T12:55:25.674280Z",
     "shell.execute_reply.started": "2021-02-11T10:31:30.930016Z"
    },
    "papermill": {
     "duration": 1.130802,
     "end_time": "2021-02-11T12:55:25.674834",
     "exception": false,
     "start_time": "2021-02-11T12:55:24.544032",
     "status": "completed"
    },
    "tags": []
   },
   "outputs": [
    {
     "name": "stdout",
     "output_type": "stream",
     "text": [
      "{'uid': None, 'path': None, 'env': None}\n"
     ]
    }
   ],
   "source": [
    "import naas\n",
    "print(naas.n_env.current)"
   ]
  },
  {
   "cell_type": "markdown",
   "id": "silent-asset",
   "metadata": {
    "tags": [
     "papermill-error-cell-tag"
    ]
   },
   "source": [
    "<span id=\"papermill-error-cell\" style=\"color:red; font-family:Helvetica Neue, Helvetica, Arial, sans-serif; font-size:2em;\">Execution using papermill encountered an exception here and stopped:</span>"
   ]
  },
  {
   "cell_type": "code",
   "execution_count": 6,
   "id": "distinguished-soviet",
   "metadata": {
    "execution": {
     "iopub.execute_input": "2021-02-11T12:55:25.702959Z",
     "iopub.status.busy": "2021-02-11T12:55:25.700740Z",
     "iopub.status.idle": "2021-02-11T12:55:25.828447Z",
     "shell.execute_reply": "2021-02-11T12:55:25.827276Z",
     "shell.execute_reply.started": "2021-02-11T10:31:32.141013Z"
    },
    "papermill": {
     "duration": 0.144611,
     "end_time": "2021-02-11T12:55:25.828870",
     "exception": true,
     "start_time": "2021-02-11T12:55:25.684259",
     "status": "failed"
    },
    "tags": []
   },
   "outputs": [
    {
     "ename": "AttributeError",
     "evalue": "'dict' object has no attribute 'env'",
     "output_type": "error",
     "traceback": [
      "\u001b[0;31m---------------------------------------------------------------------------\u001b[0m",
      "\u001b[0;31mAttributeError\u001b[0m                            Traceback (most recent call last)",
      "\u001b[0;32m<ipython-input-6-ff55a224dc50>\u001b[0m in \u001b[0;36m<module>\u001b[0;34m\u001b[0m\n\u001b[0;32m----> 1\u001b[0;31m \u001b[0mnaas\u001b[0m\u001b[0;34m.\u001b[0m\u001b[0mscheduler\u001b[0m\u001b[0;34m.\u001b[0m\u001b[0madd\u001b[0m\u001b[0;34m(\u001b[0m\u001b[0;34m'./demo_scheduler_2.ipynb'\u001b[0m\u001b[0;34m,\u001b[0m \u001b[0mrecurrence\u001b[0m\u001b[0;34m=\u001b[0m\u001b[0;34m\"* * * * *\"\u001b[0m\u001b[0;34m)\u001b[0m\u001b[0;34m\u001b[0m\u001b[0;34m\u001b[0m\u001b[0m\n\u001b[0m",
      "\u001b[0;32m~/naas/naas/scheduler.py\u001b[0m in \u001b[0;36madd\u001b[0;34m(self, path, recurrence, params, debug)\u001b[0m\n\u001b[1;32m     81\u001b[0m \u001b[0;34m\u001b[0m\u001b[0m\n\u001b[1;32m     82\u001b[0m     \u001b[0;32mdef\u001b[0m \u001b[0madd\u001b[0m\u001b[0;34m(\u001b[0m\u001b[0mself\u001b[0m\u001b[0;34m,\u001b[0m \u001b[0mpath\u001b[0m\u001b[0;34m=\u001b[0m\u001b[0;32mNone\u001b[0m\u001b[0;34m,\u001b[0m \u001b[0mrecurrence\u001b[0m\u001b[0;34m=\u001b[0m\u001b[0;32mNone\u001b[0m\u001b[0;34m,\u001b[0m \u001b[0mparams\u001b[0m\u001b[0;34m=\u001b[0m\u001b[0;34m{\u001b[0m\u001b[0;34m}\u001b[0m\u001b[0;34m,\u001b[0m \u001b[0mdebug\u001b[0m\u001b[0;34m=\u001b[0m\u001b[0;32mFalse\u001b[0m\u001b[0;34m)\u001b[0m\u001b[0;34m:\u001b[0m\u001b[0;34m\u001b[0m\u001b[0;34m\u001b[0m\u001b[0m\n\u001b[0;32m---> 83\u001b[0;31m         \u001b[0;32mif\u001b[0m \u001b[0mself\u001b[0m\u001b[0;34m.\u001b[0m\u001b[0mmanager\u001b[0m\u001b[0;34m.\u001b[0m\u001b[0mis_production\u001b[0m\u001b[0;34m(\u001b[0m\u001b[0;34m)\u001b[0m\u001b[0;34m:\u001b[0m\u001b[0;34m\u001b[0m\u001b[0;34m\u001b[0m\u001b[0m\n\u001b[0m\u001b[1;32m     84\u001b[0m             \u001b[0mprint\u001b[0m\u001b[0;34m(\u001b[0m\u001b[0;34m\"No add done, you are in production\\n\"\u001b[0m\u001b[0;34m)\u001b[0m\u001b[0;34m\u001b[0m\u001b[0;34m\u001b[0m\u001b[0m\n\u001b[1;32m     85\u001b[0m             \u001b[0;32mreturn\u001b[0m\u001b[0;34m\u001b[0m\u001b[0;34m\u001b[0m\u001b[0m\n",
      "\u001b[0;32m~/naas/naas/manager.py\u001b[0m in \u001b[0;36mis_production\u001b[0;34m(self)\u001b[0m\n\u001b[1;32m     31\u001b[0m \u001b[0;34m\u001b[0m\u001b[0m\n\u001b[1;32m     32\u001b[0m     \u001b[0;32mdef\u001b[0m \u001b[0mis_production\u001b[0m\u001b[0;34m(\u001b[0m\u001b[0mself\u001b[0m\u001b[0;34m)\u001b[0m\u001b[0;34m:\u001b[0m\u001b[0;34m\u001b[0m\u001b[0;34m\u001b[0m\u001b[0m\n\u001b[0;32m---> 33\u001b[0;31m         \u001b[0;32mreturn\u001b[0m \u001b[0;32mTrue\u001b[0m \u001b[0;32mif\u001b[0m \u001b[0mn_env\u001b[0m\u001b[0;34m.\u001b[0m\u001b[0mcurrent\u001b[0m\u001b[0;34m.\u001b[0m\u001b[0menv\u001b[0m \u001b[0;34m==\u001b[0m \u001b[0;34m\"RUNNER\"\u001b[0m \u001b[0;32melse\u001b[0m \u001b[0;32mFalse\u001b[0m\u001b[0;34m\u001b[0m\u001b[0;34m\u001b[0m\u001b[0m\n\u001b[0m\u001b[1;32m     34\u001b[0m \u001b[0;34m\u001b[0m\u001b[0m\n\u001b[1;32m     35\u001b[0m     \u001b[0;32mdef\u001b[0m \u001b[0mset_runner_mode\u001b[0m\u001b[0;34m(\u001b[0m\u001b[0mself\u001b[0m\u001b[0;34m)\u001b[0m\u001b[0;34m:\u001b[0m\u001b[0;34m\u001b[0m\u001b[0;34m\u001b[0m\u001b[0m\n",
      "\u001b[0;31mAttributeError\u001b[0m: 'dict' object has no attribute 'env'"
     ]
    }
   ],
   "source": [
    "naas.scheduler.add('./demo_scheduler_2.ipynb', recurrence=\"* * * * *\")"
   ]
  },
  {
   "cell_type": "code",
   "execution_count": 1,
   "id": "intelligent-preservation",
   "metadata": {
    "execution": {
     "iopub.execute_input": "2021-02-11T15:17:52.698508Z",
     "iopub.status.busy": "2021-02-11T15:17:52.613409Z",
     "iopub.status.idle": "2021-02-11T15:17:53.760935Z",
     "shell.execute_reply": "2021-02-11T15:17:53.745556Z",
     "shell.execute_reply.started": "2021-02-11T15:17:52.677372Z"
    },
    "papermill": {
     "duration": null,
     "end_time": null,
     "exception": null,
     "start_time": null,
     "status": "pending"
    },
    "tags": []
   },
   "outputs": [
    {
     "ename": "NameError",
     "evalue": "name 'naas' is not defined",
     "output_type": "error",
     "traceback": [
      "\u001b[0;31m---------------------------------------------------------------------------\u001b[0m",
      "\u001b[0;31mNameError\u001b[0m                                 Traceback (most recent call last)",
      "\u001b[0;32m<ipython-input-1-d174ac630854>\u001b[0m in \u001b[0;36m<module>\u001b[0;34m\u001b[0m\n\u001b[0;32m----> 1\u001b[0;31m \u001b[0mnaas\u001b[0m\u001b[0;34m.\u001b[0m\u001b[0mscheduler\u001b[0m\u001b[0;34m.\u001b[0m\u001b[0mdelete\u001b[0m\u001b[0;34m(\u001b[0m\u001b[0;34m'./demo_scheduler_2.ipynb'\u001b[0m\u001b[0;34m)\u001b[0m\u001b[0;34m\u001b[0m\u001b[0;34m\u001b[0m\u001b[0m\n\u001b[0m",
      "\u001b[0;31mNameError\u001b[0m: name 'naas' is not defined"
     ]
    }
   ],
   "source": [
    "naas.scheduler.delete('./demo_scheduler_2.ipynb')"
   ]
  },
  {
   "cell_type": "code",
   "execution_count": null,
   "id": "viral-budapest",
   "metadata": {
    "execution": {
     "iopub.execute_input": "2021-02-11T10:33:21.075825Z",
     "iopub.status.busy": "2021-02-11T10:33:21.075601Z",
     "iopub.status.idle": "2021-02-11T10:33:21.101768Z",
     "shell.execute_reply": "2021-02-11T10:33:21.099684Z",
     "shell.execute_reply.started": "2021-02-11T10:33:21.075800Z"
    },
    "papermill": {
     "duration": null,
     "end_time": null,
     "exception": null,
     "start_time": null,
     "status": "pending"
    },
    "tags": []
   },
   "outputs": [],
   "source": [
    "# naas.scheduler.get_output('./demo_scheduler_2.ipynb')"
   ]
  },
  {
   "cell_type": "code",
   "execution_count": null,
   "id": "interpreted-moral",
   "metadata": {
    "execution": {
     "iopub.execute_input": "2021-02-11T10:19:06.765804Z",
     "iopub.status.busy": "2021-02-11T10:19:06.765487Z",
     "iopub.status.idle": "2021-02-11T10:19:06.793646Z",
     "shell.execute_reply": "2021-02-11T10:19:06.790089Z",
     "shell.execute_reply.started": "2021-02-11T10:19:06.765769Z"
    },
    "papermill": {
     "duration": null,
     "end_time": null,
     "exception": null,
     "start_time": null,
     "status": "pending"
    },
    "tags": []
   },
   "outputs": [],
   "source": [
    "import os\n",
    "os.environ\n"
   ]
  },
  {
   "cell_type": "code",
   "execution_count": null,
   "id": "gentle-studio",
   "metadata": {
    "papermill": {
     "duration": null,
     "end_time": null,
     "exception": null,
     "start_time": null,
     "status": "pending"
    },
    "tags": []
   },
   "outputs": [],
   "source": []
  }
 ],
 "metadata": {
  "kernelspec": {
   "display_name": "Python 3",
   "language": "python",
   "name": "python3"
  },
  "language_info": {
   "codemirror_mode": {
    "name": "ipython",
    "version": 3
   },
   "file_extension": ".py",
   "mimetype": "text/x-python",
   "name": "python",
   "nbconvert_exporter": "python",
   "pygments_lexer": "ipython3",
   "version": "3.8.6"
  },
  "papermill": {
   "default_parameters": {},
   "duration": 5.505539,
   "end_time": "2021-02-11T12:55:26.347055",
   "environment_variables": {},
   "exception": true,
   "input_path": "/home/ftp/.naas/home/ftp/naas/tests/demo/demo_scheduler_2.ipynb",
   "output_path": "/home/ftp/.naas/home/ftp/naas/tests/demo/output__demo_scheduler_2.ipynb",
   "parameters": {
    "NAAS_NOTEBOOK_PATH": "/home/ftp/.naas/home/ftp/naas/tests/demo",
    "NAAS_RUNTIME": "20210211135520825827",
    "NAAS_UID": "8eaa20ad-638e-44a9-8e4d-9f5480ae5fe6"
   },
   "start_time": "2021-02-11T12:55:20.841516",
   "version": "2.3.2"
  }
 },
 "nbformat": 4,
 "nbformat_minor": 5
}
