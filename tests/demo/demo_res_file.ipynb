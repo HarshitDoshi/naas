{
 "cells": [
  {
   "cell_type": "code",
   "execution_count": 4,
   "metadata": {},
   "outputs": [],
   "source": [
    "import pandas as pd"
   ]
  },
  {
   "cell_type": "code",
   "execution_count": 5,
   "metadata": {},
   "outputs": [],
   "source": [
    "df = pd.read_csv(\"https://query1.finance.yahoo.com/v7/finance/download/PEIX?period1=1569403689&period2=1601026089&interval=1d&events=history\")\n",
    "df.to_csv('PEIX.csv')"
   ]
  },
  {
   "cell_type": "code",
   "execution_count": 2,
   "metadata": {},
   "outputs": [
    {
     "output_type": "display_data",
     "data": {
      "text/plain": "<IPython.core.display.Markdown object>",
      "text/markdown": "Response Set as File, preview below: "
     },
     "metadata": {}
    },
    {
     "output_type": "display_data",
     "data": {
      "text/plain": "<IPython.core.display.JSON object>",
      "application/json": {
       "path": "/Users/martindonadieu/Documents/Projects.nosync/Naas/naas/tests/demo/PEIX.csv"
      }
     },
     "metadata": {
      "application/json": {
       "expanded": false,
       "root": "root",
       "naas_api": true,
       "naas_type": "text/csv"
      }
     }
    }
   ],
   "source": [
    "import mimetypes\n",
    "import os\n",
    "from IPython.core.display import display, JSON, Markdown\n",
    "\n",
    "path = 'PEIX.csv'\n",
    "naas_type = mimetypes.guess_type(os.path.abspath(path))[0]\n",
    "data = {\"path\": os.path.abspath(path)}\n",
    "display(Markdown(\"Response Set as File, preview below: \"))\n",
    "display(JSON(data, metadata={\"naas_api\": True, \"naas_type\": naas_type}))"
   ]
  }
 ],
 "metadata": {
  "kernelspec": {
   "display_name": "Python 3",
   "language": "python",
   "name": "python3"
  },
  "language_info": {
   "codemirror_mode": {
    "name": "ipython",
    "version": 3
   },
   "file_extension": ".py",
   "mimetype": "text/x-python",
   "name": "python",
   "nbconvert_exporter": "python",
   "pygments_lexer": "ipython3",
   "version": "3.9.1-final"
  }
 },
 "nbformat": 4,
 "nbformat_minor": 4
}