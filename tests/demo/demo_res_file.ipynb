{
 "cells": [
  {
   "cell_type": "code",
   "execution_count": 4,
   "metadata": {},
   "outputs": [],
   "source": [
    "import pandas as pd"
   ]
  },
  {
   "cell_type": "code",
   "execution_count": 4,
   "metadata": {},
   "outputs": [],
   "source": [
    "csv_data = \"\"\"\"Month\", \"Average\", \"2005\", \"2006\", \"2007\", \"2008\", \"2009\", \"2010\", \"2011\", \"2012\", \"2013\", \"2014\", \"2015\"\n",
    "\"May\",  0.1,  0,  0, 1, 1, 0, 0, 0, 2, 0,  0,  0  \n",
    "\"Jun\",  0.5,  2,  1, 1, 0, 0, 1, 1, 2, 2,  0,  1\n",
    "\"Jul\",  0.7,  5,  1, 1, 2, 0, 1, 3, 0, 2,  2,  1\n",
    "\"Aug\",  2.3,  6,  3, 2, 4, 4, 4, 7, 8, 2,  2,  3\n",
    "\"Sep\",  3.5,  6,  4, 7, 4, 2, 8, 5, 2, 5,  2,  5\n",
    "\"Oct\",  2.0,  8,  0, 1, 3, 2, 5, 1, 5, 2,  3,  0\n",
    "\"Nov\",  0.5,  3,  0, 0, 1, 1, 0, 1, 0, 1,  0,  1\n",
    "\"Dec\",  0.0,  1,  0, 1, 0, 0, 0, 0, 0, 0,  0,  1\n",
    "\"\"\"\n",
    "csv_file = open('demo.csv', 'w')\n",
    "csv_file.write(csv_data)\n",
    "csv_file.close()"
   ]
  },
  {
   "cell_type": "code",
   "execution_count": 5,
   "metadata": {},
   "outputs": [
    {
     "output_type": "display_data",
     "data": {
      "text/plain": "<IPython.core.display.Markdown object>",
      "text/markdown": "Response Set as File, preview below: "
     },
     "metadata": {}
    },
    {
     "output_type": "display_data",
     "data": {
      "text/plain": "<IPython.core.display.JSON object>",
      "application/json": {
       "path": "/Users/martindonadieu/Documents/Projects.nosync/Naas/naas/tests/demo/demo.csv"
      }
     },
     "metadata": {
      "application/json": {
       "expanded": false,
       "root": "root",
       "naas_api": true,
       "naas_type": "text/csv"
      }
     }
    }
   ],
   "source": [
    "import mimetypes\n",
    "import os\n",
    "from IPython.core.display import display, JSON, Markdown\n",
    "\n",
    "path = 'demo.csv'\n",
    "naas_type = mimetypes.guess_type(os.path.abspath(path))[0]\n",
    "data = {\"path\": os.path.abspath(path)}\n",
    "display(Markdown(\"Response Set as File, preview below: \"))\n",
    "display(JSON(data, metadata={\"naas_api\": True, \"naas_type\": naas_type}))"
   ]
  },
  {
   "cell_type": "code",
   "execution_count": null,
   "metadata": {},
   "outputs": [],
   "source": []
  }
 ],
 "metadata": {
  "kernelspec": {
   "display_name": "Python 3",
   "language": "python",
   "name": "python3"
  },
  "language_info": {
   "codemirror_mode": {
    "name": "ipython",
    "version": 3
   },
   "file_extension": ".py",
   "mimetype": "text/x-python",
   "name": "python",
   "nbconvert_exporter": "python",
   "pygments_lexer": "ipython3",
   "version": "3.9.1-final"
  }
 },
 "nbformat": 4,
 "nbformat_minor": 4
}