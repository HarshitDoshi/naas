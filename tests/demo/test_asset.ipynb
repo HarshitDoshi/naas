{
 "cells": [
  {
   "cell_type": "code",
   "execution_count": 1,
   "metadata": {},
   "outputs": [],
   "source": [
    "import naas"
   ]
  },
  {
   "cell_type": "code",
   "execution_count": 2,
   "metadata": {},
   "outputs": [
    {
     "output_type": "stream",
     "name": "stdout",
     "text": [
      "👌 Well done! Your Assets has been sent to production.\n\n"
     ]
    },
    {
     "output_type": "display_data",
     "data": {
      "text/plain": "Button(button_style='primary', description='Copy URL', style=ButtonStyle())",
      "application/vnd.jupyter.widget-view+json": {
       "version_major": 2,
       "version_minor": 0,
       "model_id": "21dadd505f6645d9bec83dbf7a72c7e2"
      }
     },
     "metadata": {}
    },
    {
     "output_type": "display_data",
     "data": {
      "text/plain": "Output()",
      "application/vnd.jupyter.widget-view+json": {
       "version_major": 2,
       "version_minor": 0,
       "model_id": "199f8d70552a42cdae3907119c07b834"
      }
     },
     "metadata": {}
    },
    {
     "output_type": "stream",
     "name": "stdout",
     "text": [
      "PS: to remove the \"Assets\" feature, just replace .add by .delete\n"
     ]
    },
    {
     "output_type": "execute_result",
     "data": {
      "text/plain": [
       "'https://public.naas.ai//asset/c049570765296fef449aa59e2e7ca3cfddf955201baee31914ddbc334e26'"
      ]
     },
     "metadata": {},
     "execution_count": 2
    }
   ],
   "source": [
    "naas.assets.add('./test_asset.ipynb')"
   ]
  },
  {
   "cell_type": "code",
   "execution_count": 4,
   "metadata": {},
   "outputs": [
    {
     "output_type": "stream",
     "name": "stdout",
     "text": [
      "🕣 Your Notebook test_asset.ipynb, has been copied into your local folder.\n\n"
     ]
    }
   ],
   "source": [
    "naas.assets.get('./test_asset.ipynb')"
   ]
  },
  {
   "cell_type": "code",
   "execution_count": 7,
   "metadata": {},
   "outputs": [
    {
     "output_type": "execute_result",
     "data": {
      "text/plain": [
       "                                            id  lastRun           lastUpdate  \\\n",
       "filename  5275844a-77e6-4f39-accb-1988f2fd0453        0  2021-01-21 08:52:27   \n",
       "data      5275844a-77e6-4f39-accb-1988f2fd0453        0  2021-01-21 08:52:27   \n",
       "\n",
       "          nbRun  params                                               path  \\\n",
       "filename      0     NaN  /Users/martindonadieu/Documents/Projects.nosyn...   \n",
       "data          0     NaN  /Users/martindonadieu/Documents/Projects.nosyn...   \n",
       "\n",
       "             status  totalRun   type  \\\n",
       "filename  installed         0  asset   \n",
       "data      installed         0  asset   \n",
       "\n",
       "                                                      value  \\\n",
       "filename  c049570765296fef449aa59e2e7ca3cfddf955201baee3...   \n",
       "data      c049570765296fef449aa59e2e7ca3cfddf955201baee3...   \n",
       "\n",
       "                                                       file  \n",
       "filename                                   test_asset.ipynb  \n",
       "data      ewogImNlbGxzIjogWwogIHsKICAgImNlbGxfdHlwZSI6IC...  "
      ],
      "text/html": "<div>\n<style scoped>\n    .dataframe tbody tr th:only-of-type {\n        vertical-align: middle;\n    }\n\n    .dataframe tbody tr th {\n        vertical-align: top;\n    }\n\n    .dataframe thead th {\n        text-align: right;\n    }\n</style>\n<table border=\"1\" class=\"dataframe\">\n  <thead>\n    <tr style=\"text-align: right;\">\n      <th></th>\n      <th>id</th>\n      <th>lastRun</th>\n      <th>lastUpdate</th>\n      <th>nbRun</th>\n      <th>params</th>\n      <th>path</th>\n      <th>status</th>\n      <th>totalRun</th>\n      <th>type</th>\n      <th>value</th>\n      <th>file</th>\n    </tr>\n  </thead>\n  <tbody>\n    <tr>\n      <th>filename</th>\n      <td>5275844a-77e6-4f39-accb-1988f2fd0453</td>\n      <td>0</td>\n      <td>2021-01-21 08:52:27</td>\n      <td>0</td>\n      <td>NaN</td>\n      <td>/Users/martindonadieu/Documents/Projects.nosyn...</td>\n      <td>installed</td>\n      <td>0</td>\n      <td>asset</td>\n      <td>c049570765296fef449aa59e2e7ca3cfddf955201baee3...</td>\n      <td>test_asset.ipynb</td>\n    </tr>\n    <tr>\n      <th>data</th>\n      <td>5275844a-77e6-4f39-accb-1988f2fd0453</td>\n      <td>0</td>\n      <td>2021-01-21 08:52:27</td>\n      <td>0</td>\n      <td>NaN</td>\n      <td>/Users/martindonadieu/Documents/Projects.nosyn...</td>\n      <td>installed</td>\n      <td>0</td>\n      <td>asset</td>\n      <td>c049570765296fef449aa59e2e7ca3cfddf955201baee3...</td>\n      <td>ewogImNlbGxzIjogWwogIHsKICAgImNlbGxfdHlwZSI6IC...</td>\n    </tr>\n  </tbody>\n</table>\n</div>"
     },
     "metadata": {},
     "execution_count": 7
    }
   ],
   "source": [
    "naas.assets.list('./test_asset.ipynb')"
   ]
  },
  {
   "cell_type": "code",
   "execution_count": null,
   "metadata": {},
   "outputs": [],
   "source": []
  }
 ],
 "metadata": {
  "kernelspec": {
   "display_name": "Python 3",
   "language": "python",
   "name": "python3"
  },
  "language_info": {
   "codemirror_mode": {
    "name": "ipython",
    "version": 3
   },
   "file_extension": ".py",
   "mimetype": "text/x-python",
   "name": "python",
   "nbconvert_exporter": "python",
   "pygments_lexer": "ipython3",
   "version": "3.9.1-final"
  }
 },
 "nbformat": 4,
 "nbformat_minor": 4
}