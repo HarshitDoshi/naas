{
 "cells": [
  {
   "cell_type": "code",
   "execution_count": 1,
   "metadata": {},
   "outputs": [],
   "source": [
    "import naas"
   ]
  },
  {
   "cell_type": "code",
   "execution_count": 2,
   "metadata": {},
   "outputs": [
    {
     "output_type": "stream",
     "name": "stdout",
     "text": [
      "👌 Well done! Your Assets has been sent to production.\n\n"
     ]
    },
    {
     "output_type": "display_data",
     "data": {
      "text/plain": "Button(button_style='primary', description='Copy URL', style=ButtonStyle())",
      "application/vnd.jupyter.widget-view+json": {
       "version_major": 2,
       "version_minor": 0,
       "model_id": "7c97bdd95f724897ba4c249d2c6ecaba"
      }
     },
     "metadata": {}
    },
    {
     "output_type": "display_data",
     "data": {
      "text/plain": "Output()",
      "application/vnd.jupyter.widget-view+json": {
       "version_major": 2,
       "version_minor": 0,
       "model_id": "0a8f4284e90b4737b34b203cd1c8df4f"
      }
     },
     "metadata": {}
    },
    {
     "output_type": "stream",
     "name": "stdout",
     "text": [
      "PS: to remove the \"Assets\" feature, just replace .add by .delete\n"
     ]
    },
    {
     "output_type": "execute_result",
     "data": {
      "text/plain": [
       "'https://public.naas.ai//asset/5ef01e79da909b1e4437e50aad0859a2d0969e747a819a0665819b8d995e'"
      ]
     },
     "metadata": {},
     "execution_count": 2
    }
   ],
   "source": [
    "naas.assets.add('./test_asset.ipynb')"
   ]
  },
  {
   "cell_type": "code",
   "execution_count": 3,
   "metadata": {},
   "outputs": [
    {
     "output_type": "stream",
     "name": "stdout",
     "text": [
      "🕣 Your Notebook  test_asset.ipynb, has been copied into your local folder.\n\n"
     ]
    }
   ],
   "source": [
    "naas.assets.get('./test_asset.ipynb')"
   ]
  },
  {
   "cell_type": "code",
   "execution_count": 4,
   "metadata": {},
   "outputs": [
    {
     "output_type": "execute_result",
     "data": {
      "text/plain": [
       "                                            id  lastRun           lastUpdate  \\\n",
       "filename  9f346441-0090-451a-bacf-85487af25edd        0  2021-01-21 10:39:04   \n",
       "data      9f346441-0090-451a-bacf-85487af25edd        0  2021-01-21 10:39:04   \n",
       "\n",
       "          nbRun  params                                               path  \\\n",
       "filename      0     NaN  /Users/martindonadieu/Documents/Projects.nosyn...   \n",
       "data          0     NaN  /Users/martindonadieu/Documents/Projects.nosyn...   \n",
       "\n",
       "             status  totalRun   type  \\\n",
       "filename  installed         0  asset   \n",
       "data      installed         0  asset   \n",
       "\n",
       "                                                      value  \\\n",
       "filename  5ef01e79da909b1e4437e50aad0859a2d0969e747a819a...   \n",
       "data      5ef01e79da909b1e4437e50aad0859a2d0969e747a819a...   \n",
       "\n",
       "                                                       file  \n",
       "filename                                   test_asset.ipynb  \n",
       "data      ewogImNlbGxzIjogWwogIHsKICAgImNlbGxfdHlwZSI6IC...  "
      ],
      "text/html": "<div>\n<style scoped>\n    .dataframe tbody tr th:only-of-type {\n        vertical-align: middle;\n    }\n\n    .dataframe tbody tr th {\n        vertical-align: top;\n    }\n\n    .dataframe thead th {\n        text-align: right;\n    }\n</style>\n<table border=\"1\" class=\"dataframe\">\n  <thead>\n    <tr style=\"text-align: right;\">\n      <th></th>\n      <th>id</th>\n      <th>lastRun</th>\n      <th>lastUpdate</th>\n      <th>nbRun</th>\n      <th>params</th>\n      <th>path</th>\n      <th>status</th>\n      <th>totalRun</th>\n      <th>type</th>\n      <th>value</th>\n      <th>file</th>\n    </tr>\n  </thead>\n  <tbody>\n    <tr>\n      <th>filename</th>\n      <td>9f346441-0090-451a-bacf-85487af25edd</td>\n      <td>0</td>\n      <td>2021-01-21 10:39:04</td>\n      <td>0</td>\n      <td>NaN</td>\n      <td>/Users/martindonadieu/Documents/Projects.nosyn...</td>\n      <td>installed</td>\n      <td>0</td>\n      <td>asset</td>\n      <td>5ef01e79da909b1e4437e50aad0859a2d0969e747a819a...</td>\n      <td>test_asset.ipynb</td>\n    </tr>\n    <tr>\n      <th>data</th>\n      <td>9f346441-0090-451a-bacf-85487af25edd</td>\n      <td>0</td>\n      <td>2021-01-21 10:39:04</td>\n      <td>0</td>\n      <td>NaN</td>\n      <td>/Users/martindonadieu/Documents/Projects.nosyn...</td>\n      <td>installed</td>\n      <td>0</td>\n      <td>asset</td>\n      <td>5ef01e79da909b1e4437e50aad0859a2d0969e747a819a...</td>\n      <td>ewogImNlbGxzIjogWwogIHsKICAgImNlbGxfdHlwZSI6IC...</td>\n    </tr>\n  </tbody>\n</table>\n</div>"
     },
     "metadata": {},
     "execution_count": 4
    }
   ],
   "source": [
    "naas.assets.list('./test_asset.ipynb')"
   ]
  },
  {
   "cell_type": "code",
   "execution_count": 5,
   "metadata": {},
   "outputs": [
    {
     "output_type": "stream",
     "name": "stdout",
     "text": [
      "Naas refused your request, reason : 500 Server Error: Internal Server Error for url: http://localhost:5000/job?path=%2FUsers%2Fmartindonadieu%2FDocuments%2FProjects.nosync%2FNaas%2Fnaas%2Ftests%2Fdemo%2Ftest_asset.ipynb\n"
     ]
    },
    {
     "output_type": "error",
     "ename": "HTTPError",
     "evalue": "500 Server Error: Internal Server Error for url: http://localhost:5000/job?path=%2FUsers%2Fmartindonadieu%2FDocuments%2FProjects.nosync%2FNaas%2Fnaas%2Ftests%2Fdemo%2Ftest_asset.ipynb",
     "traceback": [
      "\u001b[0;31m---------------------------------------------------------------------------\u001b[0m",
      "\u001b[0;31mHTTPError\u001b[0m                                 Traceback (most recent call last)",
      "\u001b[0;32m<ipython-input-5-108d5f11dc79>\u001b[0m in \u001b[0;36m<module>\u001b[0;34m\u001b[0m\n\u001b[0;32m----> 1\u001b[0;31m \u001b[0mnaas\u001b[0m\u001b[0;34m.\u001b[0m\u001b[0massets\u001b[0m\u001b[0;34m.\u001b[0m\u001b[0mclear\u001b[0m\u001b[0;34m(\u001b[0m\u001b[0;34m'./test_asset.ipynb'\u001b[0m\u001b[0;34m)\u001b[0m\u001b[0;34m\u001b[0m\u001b[0;34m\u001b[0m\u001b[0m\n\u001b[0m",
      "\u001b[0;32m~/Documents/Projects.nosync/Naas/naas/naas/assets.py\u001b[0m in \u001b[0;36mclear\u001b[0;34m(self, path, histo)\u001b[0m\n\u001b[1;32m     20\u001b[0m \u001b[0;34m\u001b[0m\u001b[0m\n\u001b[1;32m     21\u001b[0m     \u001b[0;32mdef\u001b[0m \u001b[0mclear\u001b[0m\u001b[0;34m(\u001b[0m\u001b[0mself\u001b[0m\u001b[0;34m,\u001b[0m \u001b[0mpath\u001b[0m\u001b[0;34m=\u001b[0m\u001b[0;32mNone\u001b[0m\u001b[0;34m,\u001b[0m \u001b[0mhisto\u001b[0m\u001b[0;34m=\u001b[0m\u001b[0;32mNone\u001b[0m\u001b[0;34m)\u001b[0m\u001b[0;34m:\u001b[0m\u001b[0;34m\u001b[0m\u001b[0;34m\u001b[0m\u001b[0m\n\u001b[0;32m---> 22\u001b[0;31m         \u001b[0;32mreturn\u001b[0m \u001b[0mself\u001b[0m\u001b[0;34m.\u001b[0m\u001b[0mmanager\u001b[0m\u001b[0;34m.\u001b[0m\u001b[0mclear_file\u001b[0m\u001b[0;34m(\u001b[0m\u001b[0mpath\u001b[0m\u001b[0;34m,\u001b[0m \u001b[0;32mNone\u001b[0m\u001b[0;34m,\u001b[0m \u001b[0mhisto\u001b[0m\u001b[0;34m)\u001b[0m\u001b[0;34m\u001b[0m\u001b[0;34m\u001b[0m\u001b[0m\n\u001b[0m\u001b[1;32m     23\u001b[0m \u001b[0;34m\u001b[0m\u001b[0m\n\u001b[1;32m     24\u001b[0m     \u001b[0;32mdef\u001b[0m \u001b[0mcurrent_raw\u001b[0m\u001b[0;34m(\u001b[0m\u001b[0mself\u001b[0m\u001b[0;34m)\u001b[0m\u001b[0;34m:\u001b[0m\u001b[0;34m\u001b[0m\u001b[0;34m\u001b[0m\u001b[0m\n",
      "\u001b[0;32m~/Documents/Projects.nosync/Naas/naas/naas/manager.py\u001b[0m in \u001b[0;36mclear_file\u001b[0;34m(self, path, mode, histo)\u001b[0m\n\u001b[1;32m    198\u001b[0m                 \u001b[0mparams\u001b[0m\u001b[0;34m=\u001b[0m\u001b[0;34m{\u001b[0m\u001b[0;34m\"path\"\u001b[0m\u001b[0;34m:\u001b[0m \u001b[0mprod_path\u001b[0m\u001b[0;34m,\u001b[0m \u001b[0;34m\"histo\"\u001b[0m\u001b[0;34m:\u001b[0m \u001b[0mhisto\u001b[0m\u001b[0;34m,\u001b[0m \u001b[0;34m\"mode\"\u001b[0m\u001b[0;34m:\u001b[0m \u001b[0mmode\u001b[0m\u001b[0;34m}\u001b[0m\u001b[0;34m,\u001b[0m\u001b[0;34m\u001b[0m\u001b[0;34m\u001b[0m\u001b[0m\n\u001b[1;32m    199\u001b[0m             )\n\u001b[0;32m--> 200\u001b[0;31m             \u001b[0mr\u001b[0m\u001b[0;34m.\u001b[0m\u001b[0mraise_for_status\u001b[0m\u001b[0;34m(\u001b[0m\u001b[0;34m)\u001b[0m\u001b[0;34m\u001b[0m\u001b[0;34m\u001b[0m\u001b[0m\n\u001b[0m\u001b[1;32m    201\u001b[0m             \u001b[0mres\u001b[0m \u001b[0;34m=\u001b[0m \u001b[0mr\u001b[0m\u001b[0;34m.\u001b[0m\u001b[0mjson\u001b[0m\u001b[0;34m(\u001b[0m\u001b[0;34m)\u001b[0m\u001b[0;34m\u001b[0m\u001b[0;34m\u001b[0m\u001b[0m\n\u001b[1;32m    202\u001b[0m             \u001b[0;32mfor\u001b[0m \u001b[0mff\u001b[0m \u001b[0;32min\u001b[0m \u001b[0mres\u001b[0m\u001b[0;34m:\u001b[0m\u001b[0;34m\u001b[0m\u001b[0;34m\u001b[0m\u001b[0m\n",
      "\u001b[0;32m/usr/local/lib/python3.9/site-packages/requests/models.py\u001b[0m in \u001b[0;36mraise_for_status\u001b[0;34m(self)\u001b[0m\n\u001b[1;32m    941\u001b[0m \u001b[0;34m\u001b[0m\u001b[0m\n\u001b[1;32m    942\u001b[0m         \u001b[0;32mif\u001b[0m \u001b[0mhttp_error_msg\u001b[0m\u001b[0;34m:\u001b[0m\u001b[0;34m\u001b[0m\u001b[0;34m\u001b[0m\u001b[0m\n\u001b[0;32m--> 943\u001b[0;31m             \u001b[0;32mraise\u001b[0m \u001b[0mHTTPError\u001b[0m\u001b[0;34m(\u001b[0m\u001b[0mhttp_error_msg\u001b[0m\u001b[0;34m,\u001b[0m \u001b[0mresponse\u001b[0m\u001b[0;34m=\u001b[0m\u001b[0mself\u001b[0m\u001b[0;34m)\u001b[0m\u001b[0;34m\u001b[0m\u001b[0;34m\u001b[0m\u001b[0m\n\u001b[0m\u001b[1;32m    944\u001b[0m \u001b[0;34m\u001b[0m\u001b[0m\n\u001b[1;32m    945\u001b[0m     \u001b[0;32mdef\u001b[0m \u001b[0mclose\u001b[0m\u001b[0;34m(\u001b[0m\u001b[0mself\u001b[0m\u001b[0;34m)\u001b[0m\u001b[0;34m:\u001b[0m\u001b[0;34m\u001b[0m\u001b[0;34m\u001b[0m\u001b[0m\n",
      "\u001b[0;31mHTTPError\u001b[0m: 500 Server Error: Internal Server Error for url: http://localhost:5000/job?path=%2FUsers%2Fmartindonadieu%2FDocuments%2FProjects.nosync%2FNaas%2Fnaas%2Ftests%2Fdemo%2Ftest_asset.ipynb"
     ]
    }
   ],
   "source": [
    "naas.assets.clear('./test_asset.ipynb')\n"
   ]
  },
  {
   "cell_type": "code",
   "execution_count": null,
   "metadata": {},
   "outputs": [],
   "source": []
  }
 ],
 "metadata": {
  "kernelspec": {
   "display_name": "Python 3",
   "language": "python",
   "name": "python3"
  },
  "language_info": {
   "codemirror_mode": {
    "name": "ipython",
    "version": 3
   },
   "file_extension": ".py",
   "mimetype": "text/x-python",
   "name": "python",
   "nbconvert_exporter": "python",
   "pygments_lexer": "ipython3",
   "version": "3.9.1-final"
  }
 },
 "nbformat": 4,
 "nbformat_minor": 4
}